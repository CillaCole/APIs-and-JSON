{
 "cells": [
  {
   "cell_type": "code",
   "execution_count": 1,
   "id": "a1c50cc7",
   "metadata": {},
   "outputs": [],
   "source": [
    "import pandas as pd\n",
    "import numpy as np \n",
    "import matplotlib.pyplot as plt\n",
    "import seaborn as sns\n",
    "\n",
    "#additional imports\n",
    "import os, json, math, time\n",
    "from yelpapi import YelpAPI\n",
    "from tqdm.notebook import tqdm_notebook"
   ]
  },
  {
   "cell_type": "code",
   "execution_count": 2,
   "id": "94a988c8",
   "metadata": {},
   "outputs": [],
   "source": [
    "with open ('/Users/priscillacole/.secret/yelp_api.json') as f:\n",
    "    login = json.load(f)\n",
    "    login.keys()"
   ]
  },
  {
   "cell_type": "code",
   "execution_count": 3,
   "id": "79d21a7f",
   "metadata": {},
   "outputs": [
    {
     "data": {
      "text/plain": [
       "<yelpapi.yelpapi.YelpAPI at 0x7fba80e7a0d0>"
      ]
     },
     "execution_count": 3,
     "metadata": {},
     "output_type": "execute_result"
    }
   ],
   "source": [
    "yelp_api = YelpAPI(login['api-key'], timeout_s=5.0)\n",
    "yelp_api"
   ]
  },
  {
   "cell_type": "code",
   "execution_count": 4,
   "id": "384c0c60",
   "metadata": {},
   "outputs": [
    {
     "name": "stdout",
     "output_type": "stream",
     "text": [
      "<class 'dict'>\n"
     ]
    },
    {
     "data": {
      "text/plain": [
       "dict_keys(['businesses', 'total', 'region'])"
      ]
     },
     "execution_count": 4,
     "metadata": {},
     "output_type": "execute_result"
    }
   ],
   "source": [
    "# Quick Test Query\n",
    "results = yelp_api.search_query(location='Baltimore, MD',\n",
    "                                       term='Crab Cake')\n",
    "print(type(results))\n",
    "results.keys()"
   ]
  },
  {
   "cell_type": "code",
   "execution_count": 5,
   "id": "5e11e9cb",
   "metadata": {},
   "outputs": [
    {
     "data": {
      "text/plain": [
       "'My test message to save to file.\\nIt is a multi-line string.'"
      ]
     },
     "execution_count": 5,
     "metadata": {},
     "output_type": "execute_result"
    }
   ],
   "source": [
    "# This is the example message we want to save as .txt\n",
    "message = \"\"\"My test message to save to file.\n",
    "It is a multi-line string.\"\"\"\n",
    "message"
   ]
  },
  {
   "cell_type": "code",
   "execution_count": 6,
   "id": "af9432e1",
   "metadata": {},
   "outputs": [],
   "source": [
    "# Save it to a file\n",
    "with open('example_file.txt','w') as file:\n",
    "    file.write(message)"
   ]
  },
  {
   "cell_type": "code",
   "execution_count": 7,
   "id": "949584f1",
   "metadata": {},
   "outputs": [
    {
     "data": {
      "text/plain": [
       "'My test message to save to file.\\nIt is a multi-line string.'"
      ]
     },
     "execution_count": 7,
     "metadata": {},
     "output_type": "execute_result"
    }
   ],
   "source": [
    "with open('example_file.txt','r') as f:\n",
    "    loaded = f.read()\n",
    "    \n",
    "loaded"
   ]
  },
  {
   "cell_type": "markdown",
   "id": "36120cc4",
   "metadata": {},
   "source": [
    "# Opening JSON files and using the JSON module\n",
    "\n",
    "The json module has 4 basic functions for saving and loading JSON data.\n",
    "\n",
    "The two functions that we will use regularly are designed to work with files:\n",
    "\n",
    "json.load(file): Loads the data from a json file into a variable (dictionary of list of dictionaries).\n",
    "json.dump(data, file): Saves the JSON-compatible data into a file.\n",
    "While we will not be using them regularly, there are also 2 functions for converting between a string and JSON dictionary.\n",
    "\n",
    "json.loads: Convert an already-loaded string into a dictionary or list of dictionaries\n",
    "json.dumps: Convert a dictionary or list of dictionaries into a string.\n",
    "Example to save\n",
    "\n",
    "To demonstrate how to create a JSON file, we will create a dictionary called \"data\".  \n",
    "\n",
    "Notice that we are using single quotes in our python dictionary below, even though json files require double quotes. The json module is smart enough to automatically convert single quotes to double quotes when saving the data to the .json file. "
   ]
  },
  {
   "cell_type": "code",
   "execution_count": 8,
   "id": "69319fa0",
   "metadata": {},
   "outputs": [
    {
     "data": {
      "text/plain": [
       "{'stack': 4,\n",
       " 'week': 2,\n",
       " 'things learned': ['MySQL',\n",
       "  'MySQL WorkBench',\n",
       "  'GitHub Desktop',\n",
       "  'Jupyter Notebooks',\n",
       "  'JSON']}"
      ]
     },
     "execution_count": 8,
     "metadata": {},
     "output_type": "execute_result"
    }
   ],
   "source": [
    "## Saving a dictionary to a JSON file\n",
    "data = {'stack':4, 'week':2, \n",
    "       'things learned':['MySQL','MySQL WorkBench',\n",
    "                         'GitHub Desktop','Jupyter Notebooks','JSON' ]}\n",
    "data\n"
   ]
  },
  {
   "cell_type": "code",
   "execution_count": 9,
   "id": "09653d21",
   "metadata": {},
   "outputs": [],
   "source": [
    "## save dict to json file with json.dump\n",
    "with open('example_saved_data.json','w') as f:\n",
    "    json.dump(data, f)"
   ]
  },
  {
   "cell_type": "code",
   "execution_count": 10,
   "id": "3c34fef7",
   "metadata": {},
   "outputs": [
    {
     "data": {
      "text/plain": [
       "{'stack': 4,\n",
       " 'week': 2,\n",
       " 'things learned': ['MySQL',\n",
       "  'MySQL WorkBench',\n",
       "  'GitHub Desktop',\n",
       "  'Jupyter Notebooks',\n",
       "  'JSON']}"
      ]
     },
     "execution_count": 10,
     "metadata": {},
     "output_type": "execute_result"
    }
   ],
   "source": [
    "## Load saved json file back to dictionary\n",
    "with open('example_saved_data.json') as f:\n",
    "    loaded = json.load(f)\n",
    "loaded"
   ]
  },
  {
   "cell_type": "code",
   "execution_count": 11,
   "id": "0ee1d4f2",
   "metadata": {},
   "outputs": [
    {
     "name": "stdout",
     "output_type": "stream",
     "text": [
      "<class 'dict'>\n"
     ]
    },
    {
     "data": {
      "text/plain": [
       "dict_keys(['stack', 'week', 'things learned'])"
      ]
     },
     "execution_count": 11,
     "metadata": {},
     "output_type": "execute_result"
    }
   ],
   "source": [
    "print(type(loaded))\n",
    "loaded.keys()"
   ]
  },
  {
   "cell_type": "code",
   "execution_count": null,
   "id": "681642f2",
   "metadata": {},
   "outputs": [],
   "source": []
  }
 ],
 "metadata": {
  "kernelspec": {
   "display_name": "Python (dojo-env)",
   "language": "python",
   "name": "dojo-env"
  },
  "language_info": {
   "codemirror_mode": {
    "name": "ipython",
    "version": 3
   },
   "file_extension": ".py",
   "mimetype": "text/x-python",
   "name": "python",
   "nbconvert_exporter": "python",
   "pygments_lexer": "ipython3",
   "version": "3.8.13"
  },
  "toc": {
   "base_numbering": 1,
   "nav_menu": {},
   "number_sections": false,
   "sideBar": true,
   "skip_h1_title": false,
   "title_cell": "Table of Contents",
   "title_sidebar": "Contents",
   "toc_cell": false,
   "toc_position": {},
   "toc_section_display": true,
   "toc_window_display": false
  }
 },
 "nbformat": 4,
 "nbformat_minor": 5
}
